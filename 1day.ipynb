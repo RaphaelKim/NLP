{
 "cells": [
  {
   "cell_type": "markdown",
   "metadata": {},
   "source": [
    "# Library import & version check"
   ]
  },
  {
   "cell_type": "code",
   "execution_count": 1,
   "metadata": {},
   "outputs": [],
   "source": [
    "import requests"
   ]
  },
  {
   "cell_type": "code",
   "execution_count": 2,
   "metadata": {},
   "outputs": [],
   "source": [
    "from bs4 import BeautifulSoup"
   ]
  },
  {
   "cell_type": "code",
   "execution_count": 3,
   "metadata": {},
   "outputs": [],
   "source": [
    "from selenium import webdriver"
   ]
  },
  {
   "cell_type": "code",
   "execution_count": 4,
   "metadata": {},
   "outputs": [
    {
     "data": {
      "text/plain": [
       "'2.22.0'"
      ]
     },
     "execution_count": 4,
     "metadata": {},
     "output_type": "execute_result"
    }
   ],
   "source": [
    "requests.__version__"
   ]
  },
  {
   "cell_type": "code",
   "execution_count": 5,
   "metadata": {},
   "outputs": [
    {
     "data": {
      "text/plain": [
       "bs4.BeautifulSoup"
      ]
     },
     "execution_count": 5,
     "metadata": {},
     "output_type": "execute_result"
    }
   ],
   "source": [
    "BeautifulSoup"
   ]
  },
  {
   "cell_type": "code",
   "execution_count": 6,
   "metadata": {},
   "outputs": [
    {
     "data": {
      "text/plain": [
       "'3.14.1'"
      ]
     },
     "execution_count": 6,
     "metadata": {},
     "output_type": "execute_result"
    }
   ],
   "source": [
    "webdriver.__version__"
   ]
  },
  {
   "cell_type": "code",
   "execution_count": 7,
   "metadata": {},
   "outputs": [],
   "source": [
    "import tensorflow as tf"
   ]
  },
  {
   "cell_type": "code",
   "execution_count": 8,
   "metadata": {},
   "outputs": [
    {
     "data": {
      "text/plain": [
       "'2.1.0'"
      ]
     },
     "execution_count": 8,
     "metadata": {},
     "output_type": "execute_result"
    }
   ],
   "source": [
    "tf.__version__"
   ]
  },
  {
   "cell_type": "code",
   "execution_count": 9,
   "metadata": {},
   "outputs": [],
   "source": [
    "import nltk"
   ]
  },
  {
   "cell_type": "code",
   "execution_count": 10,
   "metadata": {},
   "outputs": [
    {
     "data": {
      "text/plain": [
       "'3.4.5'"
      ]
     },
     "execution_count": 10,
     "metadata": {},
     "output_type": "execute_result"
    }
   ],
   "source": [
    "nltk.__version__"
   ]
  },
  {
   "cell_type": "code",
   "execution_count": 16,
   "metadata": {},
   "outputs": [
    {
     "name": "stdout",
     "output_type": "stream",
     "text": [
      "showing info https://raw.githubusercontent.com/nltk/nltk_data/gh-pages/index.xml\n"
     ]
    },
    {
     "data": {
      "text/plain": [
       "True"
      ]
     },
     "execution_count": 16,
     "metadata": {},
     "output_type": "execute_result"
    }
   ],
   "source": [
    "nltk.download()"
   ]
  },
  {
   "cell_type": "markdown",
   "metadata": {},
   "source": [
    "# Scraping / Crawling 실습"
   ]
  },
  {
   "cell_type": "markdown",
   "metadata": {},
   "source": [
    "## requests 패키지"
   ]
  },
  {
   "cell_type": "markdown",
   "metadata": {},
   "source": [
    "### GET 방식 request"
   ]
  },
  {
   "cell_type": "code",
   "execution_count": 11,
   "metadata": {},
   "outputs": [],
   "source": [
    "def getDownload( url, param = None, retries = 3 ):\n",
    "    resp = None\n",
    "    try:\n",
    "        resp = requests.get( url, params = param )\n",
    "        resp.raise_for_status()\n",
    "    except requests.exceptions.HTTPError as e:\n",
    "        if 500 <= resp.status_code < 600 and retries > 0:\n",
    "            print( 'Retries : {0}'.format( retries ) )\n",
    "            return getDownload( url, param, retries - 1 )\n",
    "        else:\n",
    "            print( resp.status_code )\n",
    "            print( resp.reason )\n",
    "            print( resp.request.headers )\n",
    "    return resp"
   ]
  },
  {
   "cell_type": "code",
   "execution_count": 12,
   "metadata": {},
   "outputs": [
    {
     "name": "stdout",
     "output_type": "stream",
     "text": [
      "Retries : 3\n",
      "Retries : 2\n",
      "Retries : 1\n",
      "500\n",
      "Internal Server Error\n",
      "{'User-Agent': 'python-requests/2.22.0', 'Accept-Encoding': 'gzip, deflate', 'Accept': '*/*', 'Connection': 'keep-alive'}\n"
     ]
    },
    {
     "data": {
      "text/plain": [
       "<Response [500]>"
      ]
     },
     "execution_count": 12,
     "metadata": {},
     "output_type": "execute_result"
    }
   ],
   "source": [
    "url = 'http://www.crawler-test.com/status_codes/status_500'\n",
    "getDownload( url )"
   ]
  },
  {
   "cell_type": "markdown",
   "metadata": {},
   "source": [
    "### POST 방식 request"
   ]
  },
  {
   "cell_type": "code",
   "execution_count": 13,
   "metadata": {},
   "outputs": [],
   "source": [
    "def postDownload( url, data = None, param = None, retries = 3 ):\n",
    "    resp = None\n",
    "    try:\n",
    "        resp = requests.post( url, data, params = param )\n",
    "        resp.raise_for_status()\n",
    "    except requests.exceptions.HTTPError as e:\n",
    "        if 500 <= resp.status_code < 600 and retries > 0:\n",
    "            print( 'Retries : {0}'.format( retries ) )\n",
    "            return postDownload( url, param, retries - 1 )\n",
    "        else:\n",
    "            print( resp.status_code )\n",
    "            print( resp.reason )\n",
    "            print( resp.request.headers )\n",
    "    return resp"
   ]
  },
  {
   "cell_type": "code",
   "execution_count": 14,
   "metadata": {},
   "outputs": [],
   "source": [
    "url = 'http://pythonscraping.com/pages/files/processing.php'\n",
    "data = { 'firstname':'테스트', 'lastname':1234 }"
   ]
  },
  {
   "cell_type": "code",
   "execution_count": 15,
   "metadata": {},
   "outputs": [
    {
     "name": "stdout",
     "output_type": "stream",
     "text": [
      "firstname=%ED%85%8C%EC%8A%A4%ED%8A%B8&lastname=1234\n",
      "------------------------------\n",
      "{'User-Agent': 'python-requests/2.22.0', 'Accept-Encoding': 'gzip, deflate', 'Accept': '*/*', 'Connection': 'keep-alive', 'Content-Length': '51', 'Content-Type': 'application/x-www-form-urlencoded'}\n"
     ]
    },
    {
     "data": {
      "text/plain": [
       "'Hello there, 테스트 1234!'"
      ]
     },
     "execution_count": 15,
     "metadata": {},
     "output_type": "execute_result"
    }
   ],
   "source": [
    "html = postDownload( url, data )\n",
    "print( html.request.body )\n",
    "print( '------------------------------' )\n",
    "print( html.request.headers )\n",
    "html.text"
   ]
  },
  {
   "cell_type": "markdown",
   "metadata": {},
   "source": [
    "### Cookie 활용"
   ]
  },
  {
   "cell_type": "code",
   "execution_count": 16,
   "metadata": {},
   "outputs": [],
   "source": [
    "def postDownloadCookie( url, data = None, param = None, cookie = None, retries = 3 ):\n",
    "    resp = None\n",
    "    try:\n",
    "        resp = requests.post( url, data = data, cookies = cookie, params = param )\n",
    "        resp.raise_for_status()\n",
    "    except requests.exceptions.HTTPError as e:\n",
    "        if 500 <= resp.status_code < 600 and retries > 0:\n",
    "            print( 'Retries : {0}'.format( retries ) )\n",
    "            return postDownloadCookie( url, data, param, cookie, retries - 1 )\n",
    "        else:\n",
    "            print( resp.status_code )\n",
    "            print( resp.reason )\n",
    "            print( resp.request.headers )\n",
    "    return resp"
   ]
  },
  {
   "cell_type": "code",
   "execution_count": 17,
   "metadata": {},
   "outputs": [],
   "source": [
    "url = 'http://pythonscraping.com/pages/files/processing.php'\n",
    "data = { 'firstname':'test', 'lastname':1234 }"
   ]
  },
  {
   "cell_type": "code",
   "execution_count": 18,
   "metadata": {},
   "outputs": [],
   "source": [
    "html = postDownloadCookie( url, data )\n",
    "cookie = html.cookies.get_dict()"
   ]
  },
  {
   "cell_type": "code",
   "execution_count": 19,
   "metadata": {},
   "outputs": [
    {
     "data": {
      "text/plain": [
       "'Hello there, test 1234!'"
      ]
     },
     "execution_count": 19,
     "metadata": {},
     "output_type": "execute_result"
    }
   ],
   "source": [
    "html = postDownloadCookie( url, data, cookie )\n",
    "html.text"
   ]
  },
  {
   "cell_type": "code",
   "execution_count": 20,
   "metadata": {},
   "outputs": [],
   "source": [
    "session = requests.Session()"
   ]
  },
  {
   "cell_type": "code",
   "execution_count": 21,
   "metadata": {},
   "outputs": [],
   "source": [
    "data = { 'username':'test', 'password':'password' }"
   ]
  },
  {
   "cell_type": "code",
   "execution_count": 22,
   "metadata": {},
   "outputs": [],
   "source": [
    "html = session.post( url, data )"
   ]
  },
  {
   "cell_type": "code",
   "execution_count": 23,
   "metadata": {},
   "outputs": [
    {
     "data": {
      "text/plain": [
       "'Hello there,  !'"
      ]
     },
     "execution_count": 23,
     "metadata": {},
     "output_type": "execute_result"
    }
   ],
   "source": [
    "html.text"
   ]
  },
  {
   "cell_type": "markdown",
   "metadata": {},
   "source": []
  },
  {
   "cell_type": "code",
   "execution_count": 24,
   "metadata": {},
   "outputs": [],
   "source": [
    "html = session.post( url )"
   ]
  },
  {
   "cell_type": "code",
   "execution_count": 25,
   "metadata": {},
   "outputs": [
    {
     "data": {
      "text/plain": [
       "'Hello there,  !'"
      ]
     },
     "execution_count": 25,
     "metadata": {},
     "output_type": "execute_result"
    }
   ],
   "source": [
    "html.text"
   ]
  },
  {
   "cell_type": "markdown",
   "metadata": {},
   "source": [
    "## BeautifulSoup이용한 HTML 분석"
   ]
  },
  {
   "cell_type": "code",
   "execution_count": 26,
   "metadata": {},
   "outputs": [],
   "source": [
    "html = '''\n",
    "<!DOCTYPE html>\n",
    "<html>\n",
    "    <head>\n",
    "        <meta charset=\"utf-8\">\n",
    "        <title>BeautifulSoup Training</title>\n",
    "    </head>\n",
    "    <body>\n",
    "        <div id=\"result\">\n",
    "            <p class=\"row\">\n",
    "                <a class=\"red\">Go to page 1</a>\n",
    "                <a class=\"blue\">Go to page 2</a>\n",
    "                <a class=\"green\">Go to page 3</a>\n",
    "                <a class=\"red\">Go to page 4</a>\n",
    "                <b class=\"yellow\">Go to page 5</a>\n",
    "                <c id=\"gray\">Go to page 6</a>\n",
    "                <d id=\"red\">Go to page 7</a>\n",
    "            </p>\n",
    "        </div>\n",
    "    </body>\n",
    "</html>\n",
    "'''"
   ]
  },
  {
   "cell_type": "code",
   "execution_count": 27,
   "metadata": {},
   "outputs": [],
   "source": [
    "dom = BeautifulSoup( html, 'lxml' )"
   ]
  },
  {
   "cell_type": "code",
   "execution_count": 28,
   "metadata": {},
   "outputs": [
    {
     "data": {
      "text/plain": [
       "<!DOCTYPE html>\n",
       "<html>\n",
       "<head>\n",
       "<meta charset=\"utf-8\"/>\n",
       "<title>BeautifulSoup Training</title>\n",
       "</head>\n",
       "<body>\n",
       "<div id=\"result\">\n",
       "<p class=\"row\">\n",
       "<a class=\"red\">Go to page 1</a>\n",
       "<a class=\"blue\">Go to page 2</a>\n",
       "<a class=\"green\">Go to page 3</a>\n",
       "<a class=\"red\">Go to page 4</a>\n",
       "<b class=\"yellow\">Go to page 5\n",
       "                <c id=\"gray\">Go to page 6\n",
       "                <d id=\"red\">Go to page 7\n",
       "            </d></c></b></p>\n",
       "</div>\n",
       "</body>\n",
       "</html>"
      ]
     },
     "execution_count": 28,
     "metadata": {},
     "output_type": "execute_result"
    }
   ],
   "source": [
    "dom"
   ]
  },
  {
   "cell_type": "markdown",
   "metadata": {},
   "source": [
    "### find() / find_all()이용한 원하는 tag 내용 추출"
   ]
  },
  {
   "cell_type": "code",
   "execution_count": 29,
   "metadata": {},
   "outputs": [
    {
     "data": {
      "text/plain": [
       "<a class=\"red\">Go to page 1</a>"
      ]
     },
     "execution_count": 29,
     "metadata": {},
     "output_type": "execute_result"
    }
   ],
   "source": [
    "dom.find( 'a' )"
   ]
  },
  {
   "cell_type": "code",
   "execution_count": 30,
   "metadata": {},
   "outputs": [
    {
     "data": {
      "text/plain": [
       "[<a class=\"red\">Go to page 1</a>,\n",
       " <a class=\"blue\">Go to page 2</a>,\n",
       " <a class=\"green\">Go to page 3</a>,\n",
       " <a class=\"red\">Go to page 4</a>]"
      ]
     },
     "execution_count": 30,
     "metadata": {},
     "output_type": "execute_result"
    }
   ],
   "source": [
    "dom.find_all( 'a' )"
   ]
  },
  {
   "cell_type": "code",
   "execution_count": 31,
   "metadata": {},
   "outputs": [
    {
     "data": {
      "text/plain": [
       "<div id=\"result\">\n",
       "<p class=\"row\">\n",
       "<a class=\"red\">Go to page 1</a>\n",
       "<a class=\"blue\">Go to page 2</a>\n",
       "<a class=\"green\">Go to page 3</a>\n",
       "<a class=\"red\">Go to page 4</a>\n",
       "<b class=\"yellow\">Go to page 5\n",
       "                <c id=\"gray\">Go to page 6\n",
       "                <d id=\"red\">Go to page 7\n",
       "            </d></c></b></p>\n",
       "</div>"
      ]
     },
     "execution_count": 31,
     "metadata": {},
     "output_type": "execute_result"
    }
   ],
   "source": [
    "dom.find( '', { \"id\":\"result\" } )"
   ]
  },
  {
   "cell_type": "code",
   "execution_count": 32,
   "metadata": {},
   "outputs": [
    {
     "data": {
      "text/plain": [
       "<a class=\"red\">Go to page 1</a>"
      ]
     },
     "execution_count": 32,
     "metadata": {},
     "output_type": "execute_result"
    }
   ],
   "source": [
    "dom.find( '', { 'class':'red' } )"
   ]
  },
  {
   "cell_type": "code",
   "execution_count": 33,
   "metadata": {},
   "outputs": [
    {
     "data": {
      "text/plain": [
       "[<a class=\"red\">Go to page 1</a>, <a class=\"red\">Go to page 4</a>]"
      ]
     },
     "execution_count": 33,
     "metadata": {},
     "output_type": "execute_result"
    }
   ],
   "source": [
    "dom.find_all( '', { 'class':'red' } )"
   ]
  },
  {
   "cell_type": "code",
   "execution_count": 34,
   "metadata": {},
   "outputs": [
    {
     "data": {
      "text/plain": [
       "'<html>\\n<head>\\n<style>\\nimg{\\n\\twidth:75px;\\n}\\ntable{\\n\\twidth:50%;\\n}\\ntd{\\n\\tmargin:10px;\\n\\tpadding:10px;\\n}\\n.wrapper{\\n\\twidth:800px;\\n}\\n.excitingNote{\\n\\tfont-style:italic;\\n\\tfont-weight:bold;\\n}\\n</style>\\n</head>\\n<body>\\n<div id=\"wrapper\">\\n<img src=\"../img/gifts/logo.jpg\" style=\"float:left;\">\\n<h1>Totally Normal Gifts</h1>\\n<div id=\"content\">Here is a collection of totally normal, totally reasonable gifts that your friends are sure to love! Our collection is\\nhand-curated by well-paid, free-range Tibetan monks.<p>\\nWe haven\\'t figured out how to make online shopping carts yet, but you can send us a check to:<br>\\n123 Main St.<br>\\nAbuja, Nigeria\\n</br>We will then send your totally amazing gift, pronto! Please include an extra $5.00 for gift wrapping.</div>\\n<table id=\"giftList\">\\n<tr><th>\\nItem Title\\n</th><th>\\nDescription\\n</th><th>\\nCost\\n</th><th>\\nImage\\n</th></tr>\\n\\n<tr id=\"gift1\" class=\"gift\"><td>\\nVegetable Basket\\n</td><td>\\nThis vegetable basket is the perfect gift for your health conscious (or overweight) friends!\\n<span class=\"excitingNote\">Now with super-colorful bell peppers!</span>\\n</td><td>\\n$15.00\\n</td><td>\\n<img src=\"../img/gifts/img1.jpg\">\\n</td></tr>\\n\\n<tr id=\"gift2\" class=\"gift\"><td>\\nRussian Nesting Dolls\\n</td><td>\\nHand-painted by trained monkeys, these exquisite dolls are priceless! And by \"priceless,\" we mean \"extremely expensive\"! <span class=\"excitingNote\">8 entire dolls per set! Octuple the presents!</span>\\n</td><td>\\n$10,000.52\\n</td><td>\\n<img src=\"../img/gifts/img2.jpg\">\\n</td></tr>\\n\\n<tr id=\"gift3\" class=\"gift\"><td>\\nFish Painting\\n</td><td>\\nIf something seems fishy about this painting, it\\'s because it\\'s a fish! <span class=\"excitingNote\">Also hand-painted by trained monkeys!</span>\\n</td><td>\\n$10,005.00\\n</td><td>\\n<img src=\"../img/gifts/img3.jpg\">\\n</td></tr>\\n\\n<tr id=\"gift4\" class=\"gift\"><td>\\nDead Parrot\\n</td><td>\\nThis is an ex-parrot! <span class=\"excitingNote\">Or maybe he\\'s only resting?</span>\\n</td><td>\\n$0.50\\n</td><td>\\n<img src=\"../img/gifts/img4.jpg\">\\n</td></tr>\\n\\n<tr id=\"gift5\" class=\"gift\"><td>\\nMystery Box\\n</td><td>\\nIf you love suprises, this mystery box is for you! Do not place on light-colored surfaces. May cause oil staining. <span class=\"excitingNote\">Keep your friends guessing!</span>\\n</td><td>\\n$1.50\\n</td><td>\\n<img src=\"../img/gifts/img6.jpg\">\\n</td></tr>\\n</table>\\n</p>\\n<div id=\"footer\">\\n&copy; Totally Normal Gifts, Inc. <br>\\n+234 (617) 863-0736\\n</div>\\n\\n</div>\\n</body>\\n</html>\\n'"
      ]
     },
     "execution_count": 34,
     "metadata": {},
     "output_type": "execute_result"
    }
   ],
   "source": [
    "url = 'http://pythonscraping.com/pages/page3.html'\n",
    "html = getDownload( url )\n",
    "html.text"
   ]
  },
  {
   "cell_type": "code",
   "execution_count": 35,
   "metadata": {},
   "outputs": [
    {
     "data": {
      "text/plain": [
       "<html>\n",
       "<head>\n",
       "<style>\n",
       "img{\n",
       "\twidth:75px;\n",
       "}\n",
       "table{\n",
       "\twidth:50%;\n",
       "}\n",
       "td{\n",
       "\tmargin:10px;\n",
       "\tpadding:10px;\n",
       "}\n",
       ".wrapper{\n",
       "\twidth:800px;\n",
       "}\n",
       ".excitingNote{\n",
       "\tfont-style:italic;\n",
       "\tfont-weight:bold;\n",
       "}\n",
       "</style>\n",
       "</head>\n",
       "<body>\n",
       "<div id=\"wrapper\">\n",
       "<img src=\"../img/gifts/logo.jpg\" style=\"float:left;\"/>\n",
       "<h1>Totally Normal Gifts</h1>\n",
       "<div id=\"content\">Here is a collection of totally normal, totally reasonable gifts that your friends are sure to love! Our collection is\n",
       "hand-curated by well-paid, free-range Tibetan monks.<p>\n",
       "We haven't figured out how to make online shopping carts yet, but you can send us a check to:<br/>\n",
       "123 Main St.<br/>\n",
       "Abuja, Nigeria\n",
       "We will then send your totally amazing gift, pronto! Please include an extra $5.00 for gift wrapping.</p></div>\n",
       "<table id=\"giftList\">\n",
       "<tr><th>\n",
       "Item Title\n",
       "</th><th>\n",
       "Description\n",
       "</th><th>\n",
       "Cost\n",
       "</th><th>\n",
       "Image\n",
       "</th></tr>\n",
       "<tr class=\"gift\" id=\"gift1\"><td>\n",
       "Vegetable Basket\n",
       "</td><td>\n",
       "This vegetable basket is the perfect gift for your health conscious (or overweight) friends!\n",
       "<span class=\"excitingNote\">Now with super-colorful bell peppers!</span>\n",
       "</td><td>\n",
       "$15.00\n",
       "</td><td>\n",
       "<img src=\"../img/gifts/img1.jpg\"/>\n",
       "</td></tr>\n",
       "<tr class=\"gift\" id=\"gift2\"><td>\n",
       "Russian Nesting Dolls\n",
       "</td><td>\n",
       "Hand-painted by trained monkeys, these exquisite dolls are priceless! And by \"priceless,\" we mean \"extremely expensive\"! <span class=\"excitingNote\">8 entire dolls per set! Octuple the presents!</span>\n",
       "</td><td>\n",
       "$10,000.52\n",
       "</td><td>\n",
       "<img src=\"../img/gifts/img2.jpg\"/>\n",
       "</td></tr>\n",
       "<tr class=\"gift\" id=\"gift3\"><td>\n",
       "Fish Painting\n",
       "</td><td>\n",
       "If something seems fishy about this painting, it's because it's a fish! <span class=\"excitingNote\">Also hand-painted by trained monkeys!</span>\n",
       "</td><td>\n",
       "$10,005.00\n",
       "</td><td>\n",
       "<img src=\"../img/gifts/img3.jpg\"/>\n",
       "</td></tr>\n",
       "<tr class=\"gift\" id=\"gift4\"><td>\n",
       "Dead Parrot\n",
       "</td><td>\n",
       "This is an ex-parrot! <span class=\"excitingNote\">Or maybe he's only resting?</span>\n",
       "</td><td>\n",
       "$0.50\n",
       "</td><td>\n",
       "<img src=\"../img/gifts/img4.jpg\"/>\n",
       "</td></tr>\n",
       "<tr class=\"gift\" id=\"gift5\"><td>\n",
       "Mystery Box\n",
       "</td><td>\n",
       "If you love suprises, this mystery box is for you! Do not place on light-colored surfaces. May cause oil staining. <span class=\"excitingNote\">Keep your friends guessing!</span>\n",
       "</td><td>\n",
       "$1.50\n",
       "</td><td>\n",
       "<img src=\"../img/gifts/img6.jpg\"/>\n",
       "</td></tr>\n",
       "</table>\n",
       "<div id=\"footer\">\n",
       "© Totally Normal Gifts, Inc. <br/>\n",
       "+234 (617) 863-0736\n",
       "</div>\n",
       "</div>\n",
       "</body>\n",
       "</html>"
      ]
     },
     "execution_count": 35,
     "metadata": {},
     "output_type": "execute_result"
    }
   ],
   "source": [
    "dom = BeautifulSoup( html.text, 'lxml' )\n",
    "dom"
   ]
  },
  {
   "cell_type": "code",
   "execution_count": 36,
   "metadata": {},
   "outputs": [
    {
     "data": {
      "text/plain": [
       "<div id=\"footer\">\n",
       "© Totally Normal Gifts, Inc. <br/>\n",
       "+234 (617) 863-0736\n",
       "</div>"
      ]
     },
     "execution_count": 36,
     "metadata": {},
     "output_type": "execute_result"
    }
   ],
   "source": [
    "footer = dom.find( 'div', { 'id':'footer' } )\n",
    "footer"
   ]
  },
  {
   "cell_type": "code",
   "execution_count": 37,
   "metadata": {},
   "outputs": [
    {
     "data": {
      "text/plain": [
       "('div', {'id': 'wrapper'})"
      ]
     },
     "execution_count": 37,
     "metadata": {},
     "output_type": "execute_result"
    }
   ],
   "source": [
    "parent = footer.find_parent()\n",
    "parent.name, parent.attrs"
   ]
  },
  {
   "cell_type": "code",
   "execution_count": 38,
   "metadata": {},
   "outputs": [
    {
     "name": "stdout",
     "output_type": "stream",
     "text": [
      "img {'src': '../img/gifts/logo.jpg', 'style': 'float:left;'}\n",
      "h1 {}\n",
      "div {'id': 'content'}\n",
      "table {'id': 'giftList'}\n",
      "div {'id': 'footer'}\n"
     ]
    }
   ],
   "source": [
    "children = parent.find_all( recursive = False )\n",
    "for row in children:\n",
    "    print( row.name, row.attrs )"
   ]
  },
  {
   "cell_type": "code",
   "execution_count": 39,
   "metadata": {},
   "outputs": [
    {
     "data": {
      "text/plain": [
       "[<tr><th>\n",
       " Item Title\n",
       " </th><th>\n",
       " Description\n",
       " </th><th>\n",
       " Cost\n",
       " </th><th>\n",
       " Image\n",
       " </th></tr>,\n",
       " <tr class=\"gift\" id=\"gift1\"><td>\n",
       " Vegetable Basket\n",
       " </td><td>\n",
       " This vegetable basket is the perfect gift for your health conscious (or overweight) friends!\n",
       " <span class=\"excitingNote\">Now with super-colorful bell peppers!</span>\n",
       " </td><td>\n",
       " $15.00\n",
       " </td><td>\n",
       " <img src=\"../img/gifts/img1.jpg\"/>\n",
       " </td></tr>,\n",
       " <tr class=\"gift\" id=\"gift2\"><td>\n",
       " Russian Nesting Dolls\n",
       " </td><td>\n",
       " Hand-painted by trained monkeys, these exquisite dolls are priceless! And by \"priceless,\" we mean \"extremely expensive\"! <span class=\"excitingNote\">8 entire dolls per set! Octuple the presents!</span>\n",
       " </td><td>\n",
       " $10,000.52\n",
       " </td><td>\n",
       " <img src=\"../img/gifts/img2.jpg\"/>\n",
       " </td></tr>,\n",
       " <tr class=\"gift\" id=\"gift3\"><td>\n",
       " Fish Painting\n",
       " </td><td>\n",
       " If something seems fishy about this painting, it's because it's a fish! <span class=\"excitingNote\">Also hand-painted by trained monkeys!</span>\n",
       " </td><td>\n",
       " $10,005.00\n",
       " </td><td>\n",
       " <img src=\"../img/gifts/img3.jpg\"/>\n",
       " </td></tr>,\n",
       " <tr class=\"gift\" id=\"gift4\"><td>\n",
       " Dead Parrot\n",
       " </td><td>\n",
       " This is an ex-parrot! <span class=\"excitingNote\">Or maybe he's only resting?</span>\n",
       " </td><td>\n",
       " $0.50\n",
       " </td><td>\n",
       " <img src=\"../img/gifts/img4.jpg\"/>\n",
       " </td></tr>,\n",
       " <tr class=\"gift\" id=\"gift5\"><td>\n",
       " Mystery Box\n",
       " </td><td>\n",
       " If you love suprises, this mystery box is for you! Do not place on light-colored surfaces. May cause oil staining. <span class=\"excitingNote\">Keep your friends guessing!</span>\n",
       " </td><td>\n",
       " $1.50\n",
       " </td><td>\n",
       " <img src=\"../img/gifts/img6.jpg\"/>\n",
       " </td></tr>]"
      ]
     },
     "execution_count": 39,
     "metadata": {},
     "output_type": "execute_result"
    }
   ],
   "source": [
    "aList = dom.find_all( 'tr' )\n",
    "aList"
   ]
  },
  {
   "cell_type": "code",
   "execution_count": 40,
   "metadata": {},
   "outputs": [
    {
     "name": "stdout",
     "output_type": "stream",
     "text": [
      "Cost\n",
      "$15.00\n",
      "$10,000.52\n",
      "$10,005.00\n",
      "$0.50\n",
      "$1.50\n"
     ]
    }
   ],
   "source": [
    "for row in aList:\n",
    "    print( row.find_all( recursive = False )[ 2 ].text.strip() )"
   ]
  },
  {
   "cell_type": "markdown",
   "metadata": {},
   "source": [
    "### select() / select_all()이용한 원하는 tag 내용 추출"
   ]
  },
  {
   "cell_type": "code",
   "execution_count": 41,
   "metadata": {},
   "outputs": [],
   "source": [
    "html = '''\n",
    "<!DOCTYPE html>\n",
    "<html>\n",
    "    <head>\n",
    "        <meta charset=\"utf-8\">\n",
    "        <title>BeautifulSoup Training</title>\n",
    "    </head>\n",
    "    <body>\n",
    "        <div id=\"result\">\n",
    "            <p class=\"row\">\n",
    "                <a class=\"red\">Go to page 1</a>\n",
    "                <a class=\"blue\">Go to page 2</a>\n",
    "                <a class=\"green\">Go to page 3</a>\n",
    "                <a class=\"red\">Go to page 4</a>\n",
    "                <b class=\"yellow\">Go to page 5</a>\n",
    "                <c id=\"gray\">Go to page 6</a>\n",
    "                <d id=\"red\">Go to page 7</a>\n",
    "            </p>\n",
    "        </div>\n",
    "    </body>\n",
    "</html>\n",
    "'''"
   ]
  },
  {
   "cell_type": "code",
   "execution_count": 42,
   "metadata": {},
   "outputs": [
    {
     "data": {
      "text/plain": [
       "<!DOCTYPE html>\n",
       "<html>\n",
       "<head>\n",
       "<meta charset=\"utf-8\"/>\n",
       "<title>BeautifulSoup Training</title>\n",
       "</head>\n",
       "<body>\n",
       "<div id=\"result\">\n",
       "<p class=\"row\">\n",
       "<a class=\"red\">Go to page 1</a>\n",
       "<a class=\"blue\">Go to page 2</a>\n",
       "<a class=\"green\">Go to page 3</a>\n",
       "<a class=\"red\">Go to page 4</a>\n",
       "<b class=\"yellow\">Go to page 5\n",
       "                <c id=\"gray\">Go to page 6\n",
       "                <d id=\"red\">Go to page 7\n",
       "            </d></c></b></p>\n",
       "</div>\n",
       "</body>\n",
       "</html>"
      ]
     },
     "execution_count": 42,
     "metadata": {},
     "output_type": "execute_result"
    }
   ],
   "source": [
    "dom = BeautifulSoup( html, 'lxml' )\n",
    "dom"
   ]
  },
  {
   "cell_type": "code",
   "execution_count": 43,
   "metadata": {},
   "outputs": [
    {
     "data": {
      "text/plain": [
       "<a class=\"red\">Go to page 1</a>"
      ]
     },
     "execution_count": 43,
     "metadata": {},
     "output_type": "execute_result"
    }
   ],
   "source": [
    "dom.select_one( 'a' )"
   ]
  },
  {
   "cell_type": "code",
   "execution_count": 44,
   "metadata": {},
   "outputs": [
    {
     "data": {
      "text/plain": [
       "[<a class=\"red\">Go to page 1</a>,\n",
       " <a class=\"blue\">Go to page 2</a>,\n",
       " <a class=\"green\">Go to page 3</a>,\n",
       " <a class=\"red\">Go to page 4</a>]"
      ]
     },
     "execution_count": 44,
     "metadata": {},
     "output_type": "execute_result"
    }
   ],
   "source": [
    "dom.select( 'a' )"
   ]
  },
  {
   "cell_type": "code",
   "execution_count": 45,
   "metadata": {},
   "outputs": [
    {
     "data": {
      "text/plain": [
       "<c id=\"gray\">Go to page 6\n",
       "                <d id=\"red\">Go to page 7\n",
       "            </d></c>"
      ]
     },
     "execution_count": 45,
     "metadata": {},
     "output_type": "execute_result"
    }
   ],
   "source": [
    "dom.select_one( '#gray' )"
   ]
  },
  {
   "cell_type": "code",
   "execution_count": 46,
   "metadata": {},
   "outputs": [
    {
     "data": {
      "text/plain": [
       "<a class=\"red\">Go to page 1</a>"
      ]
     },
     "execution_count": 46,
     "metadata": {},
     "output_type": "execute_result"
    }
   ],
   "source": [
    "dom.select_one( '.red' )"
   ]
  },
  {
   "cell_type": "code",
   "execution_count": 47,
   "metadata": {},
   "outputs": [
    {
     "data": {
      "text/plain": [
       "[<c id=\"gray\">Go to page 6\n",
       "                 <d id=\"red\">Go to page 7\n",
       "             </d></c>]"
      ]
     },
     "execution_count": 47,
     "metadata": {},
     "output_type": "execute_result"
    }
   ],
   "source": [
    "dom.select( '#gray' )"
   ]
  },
  {
   "cell_type": "code",
   "execution_count": 48,
   "metadata": {},
   "outputs": [],
   "source": [
    "url = 'https://media.daum.net/issue/5008621'\n",
    "html = requests.get( url )\n",
    "html_text = html.text"
   ]
  },
  {
   "cell_type": "code",
   "execution_count": 49,
   "metadata": {},
   "outputs": [],
   "source": [
    "dom = BeautifulSoup( html_text, 'lxml' )"
   ]
  },
  {
   "cell_type": "code",
   "execution_count": 50,
   "metadata": {},
   "outputs": [],
   "source": [
    "news_list = dom.select( \n",
    "    '#cMain > div#mArticle > ul > li > div > strong.tit_thumb > a.link_txt' )"
   ]
  },
  {
   "cell_type": "code",
   "execution_count": 51,
   "metadata": {},
   "outputs": [
    {
     "name": "stdout",
     "output_type": "stream",
     "text": [
      "<a class=\"link_txt\" href=\"http://v.media.daum.net/v/20200228192440612\">독일 하루 동안 코로나19 확진자 22명..북부서도 발생</a>\n"
     ]
    }
   ],
   "source": [
    "print( news_list[ 0 ] )"
   ]
  },
  {
   "cell_type": "code",
   "execution_count": 52,
   "metadata": {},
   "outputs": [
    {
     "name": "stdout",
     "output_type": "stream",
     "text": [
      "<a class=\"link_txt\" href=\"http://v.media.daum.net/v/20200228192440612\">독일 하루 동안 코로나19 확진자 22명..북부서도 발생</a>\n",
      "<a class=\"link_txt\" href=\"http://v.media.daum.net/v/20200228192439611\">국회, 코로나19 지원 서두른다..2월국회 내 추경 처리 가능...</a>\n",
      "<a class=\"link_txt\" href=\"http://v.media.daum.net/v/20200228191908511\">강경화, 중국·베트남주재 공관장과 화상회의..\"국민보호 만전\"</a>\n",
      "<a class=\"link_txt\" href=\"http://v.media.daum.net/v/20200228191639465\">문 대통령 \"마스크 문제 송구..대책냈으니 내일·모레까지 효과...</a>\n",
      "<a class=\"link_txt\" href=\"http://v.media.daum.net/v/20200228191538437\">대구서 자가격리 69세 여성 숨져..국내 14번째</a>\n",
      "<a class=\"link_txt\" href=\"http://v.media.daum.net/v/20200228190808275\">문 대통령 \"중국인 입국금지 불가능..지금은 실효성 없어\"</a>\n",
      "<a class=\"link_txt\" href=\"http://v.media.daum.net/v/20200228190739266\">이탈리아 정부, 무증상 감염자 확진자 통계서 배제 검토</a>\n",
      "<a class=\"link_txt\" href=\"http://v.media.daum.net/v/20200228190538224\">박원순 \"서울 신천지 627명 통화 안돼..이만희, 국민에 사...</a>\n",
      "<a class=\"link_txt\" href=\"http://v.media.daum.net/v/20200228190238178\">세종·대구서 공무원 확진 잇따라..정부청사 관리 '초비상'</a>\n",
      "<a class=\"link_txt\" href=\"http://v.media.daum.net/v/20200228185908138\">정부, 한국민 입국제한국에 '여행주의보'..\"방문 재고해야\"</a>\n"
     ]
    }
   ],
   "source": [
    "for news in news_list:\n",
    "    print( news )"
   ]
  },
  {
   "cell_type": "code",
   "execution_count": 53,
   "metadata": {},
   "outputs": [
    {
     "name": "stdout",
     "output_type": "stream",
     "text": [
      "독일 하루 동안 코로나19 확진자 22명..북부서도 발생\n",
      "국회, 코로나19 지원 서두른다..2월국회 내 추경 처리 가능...\n",
      "강경화, 중국·베트남주재 공관장과 화상회의..\"국민보호 만전\"\n",
      "문 대통령 \"마스크 문제 송구..대책냈으니 내일·모레까지 효과...\n",
      "대구서 자가격리 69세 여성 숨져..국내 14번째\n",
      "문 대통령 \"중국인 입국금지 불가능..지금은 실효성 없어\"\n",
      "이탈리아 정부, 무증상 감염자 확진자 통계서 배제 검토\n",
      "박원순 \"서울 신천지 627명 통화 안돼..이만희, 국민에 사...\n",
      "세종·대구서 공무원 확진 잇따라..정부청사 관리 '초비상'\n",
      "정부, 한국민 입국제한국에 '여행주의보'..\"방문 재고해야\"\n"
     ]
    }
   ],
   "source": [
    "news_lists = []\n",
    "for index in range( 0, len( news_list ) ):\n",
    "    news_lists.append( news_list[ index ].text )\n",
    "    print( news_list[ index ].text )"
   ]
  },
  {
   "cell_type": "code",
   "execution_count": 54,
   "metadata": {},
   "outputs": [
    {
     "name": "stdout",
     "output_type": "stream",
     "text": [
      "독일 하루 동안 코로나19 확진자 22명..북부서도 발생\n",
      "국회, 코로나19 지원 서두른다..2월국회 내 추경 처리 가능...\n",
      "강경화, 중국·베트남주재 공관장과 화상회의..\"국민보호 만전\"\n",
      "문 대통령 \"마스크 문제 송구..대책냈으니 내일·모레까지 효과...\n",
      "대구서 자가격리 69세 여성 숨져..국내 14번째\n",
      "문 대통령 \"중국인 입국금지 불가능..지금은 실효성 없어\"\n",
      "이탈리아 정부, 무증상 감염자 확진자 통계서 배제 검토\n",
      "박원순 \"서울 신천지 627명 통화 안돼..이만희, 국민에 사...\n",
      "세종·대구서 공무원 확진 잇따라..정부청사 관리 '초비상'\n",
      "정부, 한국민 입국제한국에 '여행주의보'..\"방문 재고해야\"\n"
     ]
    }
   ],
   "source": [
    "for text in news_lists:\n",
    "    print( text )"
   ]
  },
  {
   "cell_type": "code",
   "execution_count": 56,
   "metadata": {},
   "outputs": [],
   "source": [
    "with open( '/nlp/news_list.txt', 'w', encoding = 'utf-8' ) as f:\n",
    "    for text in news_lists:\n",
    "        f.write( text + '\\n' )"
   ]
  },
  {
   "cell_type": "markdown",
   "metadata": {},
   "source": [
    "## Selenium - Webdriver 사용"
   ]
  },
  {
   "cell_type": "code",
   "execution_count": 57,
   "metadata": {},
   "outputs": [],
   "source": [
    "path = '/nlp/chromedriver'\n",
    "driver = webdriver.Chrome( path )"
   ]
  },
  {
   "cell_type": "code",
   "execution_count": 127,
   "metadata": {},
   "outputs": [],
   "source": [
    "url = 'http://example.webscraping.com/places/default/search'\n",
    "driver.get( url )"
   ]
  },
  {
   "cell_type": "code",
   "execution_count": 130,
   "metadata": {},
   "outputs": [],
   "source": [
    "driver.find_element_by_id( 'search_term' ).clear()\n",
    "driver.find_element_by_id( 'search_term' ).send_keys( 'korea' )\n",
    "driver.find_element_by_id( 'search' ).click()"
   ]
  },
  {
   "cell_type": "code",
   "execution_count": 133,
   "metadata": {},
   "outputs": [
    {
     "name": "stdout",
     "output_type": "stream",
     "text": [
      "North Korea\n",
      "http://example.webscraping.com/places/default/view/North-Korea-165\n",
      "South Korea\n",
      "http://example.webscraping.com/places/default/view/South-Korea-211\n"
     ]
    }
   ],
   "source": [
    "results = driver.find_element_by_id( 'results' )\n",
    "for tag in results.find_elements_by_tag_name( 'a' ):\n",
    "    print( tag.text )\n",
    "    print( tag.get_attribute( 'href' ) )"
   ]
  },
  {
   "cell_type": "code",
   "execution_count": 134,
   "metadata": {},
   "outputs": [],
   "source": [
    "driver.get( 'https://www.google.co.kr' )\n",
    "search = driver.find_element_by_name( \"q\" )\n",
    "search.send_keys( \"파이썬\" )\n",
    "search.submit()"
   ]
  },
  {
   "cell_type": "code",
   "execution_count": null,
   "metadata": {},
   "outputs": [],
   "source": [
    "user = \"facebook id\"\n",
    "pwd = \"facebook password\"\n",
    "\n",
    "driver.get( 'https://www.facebook.com' )\n",
    "\n",
    "element = driver.find_element_by_id( 'email' )\n",
    "element.send_keys( user )\n",
    "element = driver.find_element_by_id( 'pass' )\n",
    "element.send_keys( pwd )\n",
    "element.send_keys( Keys.RETURN )"
   ]
  },
  {
   "cell_type": "code",
   "execution_count": null,
   "metadata": {},
   "outputs": [],
   "source": []
  },
  {
   "cell_type": "code",
   "execution_count": null,
   "metadata": {},
   "outputs": [],
   "source": []
  },
  {
   "cell_type": "code",
   "execution_count": null,
   "metadata": {},
   "outputs": [],
   "source": []
  }
 ],
 "metadata": {
  "kernelspec": {
   "display_name": "Python 3",
   "language": "python",
   "name": "python3"
  },
  "language_info": {
   "codemirror_mode": {
    "name": "ipython",
    "version": 3
   },
   "file_extension": ".py",
   "mimetype": "text/x-python",
   "name": "python",
   "nbconvert_exporter": "python",
   "pygments_lexer": "ipython3",
   "version": "3.7.6"
  }
 },
 "nbformat": 4,
 "nbformat_minor": 4
}
