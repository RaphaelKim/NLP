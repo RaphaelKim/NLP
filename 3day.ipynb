{
 "cells": [
  {
   "cell_type": "markdown",
   "metadata": {},
   "source": [
    "Topic\n",
    "0. open\n",
    "1. review\n",
    "  \n",
    "   1.1 1, 2일차 내용에 대한 review( naver 영화 한줄평을 이용 )\n",
    "2. topic\n",
    "\n",
    "   2.1 정수 인코딩( Integer encoding )\n",
    "\n",
    "   2.2 원-핫 인코딩( One-hot encoding )\n",
    "   \n",
    "   2.3 Byte Pair Encoding, BPE )\n",
    "   \n",
    "   2.4 데이터 분리( Splitting Data )\n",
    "   \n",
    "3. Q & A\n",
    "4. close"
   ]
  },
  {
   "cell_type": "markdown",
   "metadata": {},
   "source": [
    "# 1. Review"
   ]
  },
  {
   "cell_type": "markdown",
   "metadata": {},
   "source": [
    "# Naver 영화 한줄평 crawling & Test preprocessing\n"
   ]
  },
  {
   "cell_type": "code",
   "execution_count": 1,
   "metadata": {},
   "outputs": [],
   "source": [
    "import requests\n",
    "from bs4 import BeautifulSoup"
   ]
  },
  {
   "cell_type": "markdown",
   "metadata": {},
   "source": [
    "# 한줄평 crawling"
   ]
  },
  {
   "cell_type": "code",
   "execution_count": 2,
   "metadata": {},
   "outputs": [],
   "source": [
    "url = 'https://movie.naver.com/movie/bi/mi/basic.nhn?code=187321#'"
   ]
  },
  {
   "cell_type": "code",
   "execution_count": 3,
   "metadata": {},
   "outputs": [],
   "source": [
    "resp = requests.get( url )\n",
    "html = BeautifulSoup( resp.content, 'lxml' )"
   ]
  },
  {
   "cell_type": "code",
   "execution_count": 4,
   "metadata": {},
   "outputs": [],
   "source": [
    "score_result = html.find( 'div', { 'class' : 'score_result' } )\n",
    "lis = score_result.findAll( 'li' )"
   ]
  },
  {
   "cell_type": "code",
   "execution_count": 6,
   "metadata": {},
   "outputs": [
    {
     "name": "stdout",
     "output_type": "stream",
     "text": [
      "['이 영화는 미쳤다. 넷플릭스가 일상화된 시대에 극장이 존재해야하는 이유를 증명해준다.', '충무로: 이거 어케하는거냐?', '아카데미에서 촬영상, 음향효과상, 시각효과상을 받은 이유가 고스란히 녹아있는 영화. IMAX로 관람하는걸 추천한다.', '촬영감독의 영혼까지 갈아넣은 마스터피스', '오스카 작품상 탔어도 할말 없었을것 같다.']\n"
     ]
    }
   ],
   "source": [
    "comments = []\n",
    "for li in lis:\n",
    "    review_text = li.find( 'p' ).getText()\n",
    "    comments.append( review_text.strip() )\n",
    "print( comments )"
   ]
  },
  {
   "cell_type": "code",
   "execution_count": 7,
   "metadata": {},
   "outputs": [
    {
     "name": "stdout",
     "output_type": "stream",
     "text": [
      "이 영화는 미쳤다. 넷플릭스가 일상화된 시대에 극장이 존재해야하는 이유를 증명해준다.\n",
      "\n",
      "충무로: 이거 어케하는거냐?\n",
      "\n",
      "아카데미에서 촬영상, 음향효과상, 시각효과상을 받은 이유가 고스란히 녹아있는 영화. IMAX로 관람하는걸 추천한다.\n",
      "\n",
      "촬영감독의 영혼까지 갈아넣은 마스터피스\n",
      "\n",
      "오스카 작품상 탔어도 할말 없었을것 같다.\n",
      "\n"
     ]
    }
   ],
   "source": [
    "for comment in comments:\n",
    "    print( comment + '\\n' )"
   ]
  },
  {
   "cell_type": "markdown",
   "metadata": {},
   "source": [
    "### crawling 결과 파일 저장 / 읽기"
   ]
  },
  {
   "cell_type": "code",
   "execution_count": 8,
   "metadata": {},
   "outputs": [],
   "source": [
    "with open( 'comment_1917.txt', 'w', encoding = 'utf-8' ) as f:\n",
    "    for comment in comments:\n",
    "        f.write( comment + '\\n' )"
   ]
  },
  {
   "cell_type": "code",
   "execution_count": 9,
   "metadata": {},
   "outputs": [
    {
     "name": "stdout",
     "output_type": "stream",
     "text": [
      "['이 영화는 미쳤다. 넷플릭스가 일상화된 시대에 극장이 존재해야하는 이유를 증명해준다.', '충무로: 이거 어케하는거냐?', '아카데미에서 촬영상, 음향효과상, 시각효과상을 받은 이유가 고스란히 녹아있는 영화. IMAX로 관람하는걸 추천한다.', '촬영감독의 영혼까지 갈아넣은 마스터피스', '오스카 작품상 탔어도 할말 없었을것 같다.']\n"
     ]
    }
   ],
   "source": [
    "movie_comments = []\n",
    "with open( 'comment_1917.txt', 'r', encoding = 'utf-8' ) as f:\n",
    "    lines = f.readlines()\n",
    "    for line in lines:\n",
    "        movie_comments.append( line.rstrip( '\\n' ) )\n",
    "print( movie_comments )"
   ]
  },
  {
   "cell_type": "markdown",
   "metadata": {},
   "source": [
    "### 파이썬 리스트 내용을 하나의 문자열로 변경"
   ]
  },
  {
   "cell_type": "code",
   "execution_count": 10,
   "metadata": {},
   "outputs": [
    {
     "name": "stdout",
     "output_type": "stream",
     "text": [
      "이 영화는 미쳤다. 넷플릭스가 일상화된 시대에 극장이 존재해야하는 이유를 증명해준다.충무로: 이거 어케하는거냐?아카데미에서 촬영상, 음향효과상, 시각효과상을 받은 이유가 고스란히 녹아있는 영화. IMAX로 관람하는걸 추천한다.촬영감독의 영혼까지 갈아넣은 마스터피스오스카 작품상 탔어도 할말 없었을것 같다.\n"
     ]
    }
   ],
   "source": [
    "movie_comment = ''\n",
    "for comment in movie_comments:\n",
    "    movie_comment += comment \n",
    "print( movie_comment )"
   ]
  },
  {
   "cell_type": "markdown",
   "metadata": {},
   "source": [
    "# Text preprocessing"
   ]
  },
  {
   "cell_type": "code",
   "execution_count": null,
   "metadata": {},
   "outputs": [],
   "source": []
  }
 ],
 "metadata": {
  "kernelspec": {
   "display_name": "Python 3",
   "language": "python",
   "name": "python3"
  },
  "language_info": {
   "codemirror_mode": {
    "name": "ipython",
    "version": 3
   },
   "file_extension": ".py",
   "mimetype": "text/x-python",
   "name": "python",
   "nbconvert_exporter": "python",
   "pygments_lexer": "ipython3",
   "version": "3.7.6"
  }
 },
 "nbformat": 4,
 "nbformat_minor": 4
}
